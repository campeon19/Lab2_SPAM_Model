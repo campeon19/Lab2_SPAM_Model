{
 "cells": [
  {
   "attachments": {},
   "cell_type": "markdown",
   "metadata": {},
   "source": [
    "# Laboratorio 2\n",
    "### Security Data Science\n",
    "- Christian Pérez\n",
    "- Andrei Portales"
   ]
  },
  {
   "attachments": {},
   "cell_type": "markdown",
   "metadata": {},
   "source": [
    "#### Modelo BoG\n",
    "con n = 2"
   ]
  },
  {
   "cell_type": "code",
   "execution_count": 1,
   "metadata": {},
   "outputs": [],
   "source": [
    "import pandas as pd\n",
    "import numpy as np\n",
    "import re\n",
    "from collections import Counter\n",
    "from sklearn import feature_extraction, tree, model_selection, metrics\n",
    "import matplotlib.pyplot as plt\n",
    "import matplotlib\n",
    "import seaborn as sns\n",
    "%matplotlib inline\n",
    "from yellowbrick.features import Rank2D\n",
    "from yellowbrick.features import RadViz\n",
    "\n",
    "from sklearn.feature_extraction.text import CountVectorizer\n",
    "from sklearn.feature_extraction.text import TfidfVectorizer\n"
   ]
  },
  {
   "cell_type": "code",
   "execution_count": 2,
   "metadata": {},
   "outputs": [
    {
     "data": {
      "text/html": [
       "<div>\n",
       "<style scoped>\n",
       "    .dataframe tbody tr th:only-of-type {\n",
       "        vertical-align: middle;\n",
       "    }\n",
       "\n",
       "    .dataframe tbody tr th {\n",
       "        vertical-align: top;\n",
       "    }\n",
       "\n",
       "    .dataframe thead th {\n",
       "        text-align: right;\n",
       "    }\n",
       "</style>\n",
       "<table border=\"1\" class=\"dataframe\">\n",
       "  <thead>\n",
       "    <tr style=\"text-align: right;\">\n",
       "      <th></th>\n",
       "      <th>Unnamed: 0</th>\n",
       "      <th>Body</th>\n",
       "      <th>Label</th>\n",
       "    </tr>\n",
       "  </thead>\n",
       "  <tbody>\n",
       "    <tr>\n",
       "      <th>0</th>\n",
       "      <td>0</td>\n",
       "      <td>save life insur spend tolif quot save ensur fa...</td>\n",
       "      <td>1</td>\n",
       "    </tr>\n",
       "    <tr>\n",
       "      <th>1</th>\n",
       "      <td>1</td>\n",
       "      <td>fight risk cancer httpwwwadclickwspcfmospk sli...</td>\n",
       "      <td>1</td>\n",
       "    </tr>\n",
       "    <tr>\n",
       "      <th>2</th>\n",
       "      <td>2</td>\n",
       "      <td>fight risk cancer httpwwwadclickwspcfmospk sli...</td>\n",
       "      <td>1</td>\n",
       "    </tr>\n",
       "    <tr>\n",
       "      <th>3</th>\n",
       "      <td>3</td>\n",
       "      <td>adult club offer free membership instant acces...</td>\n",
       "      <td>1</td>\n",
       "    </tr>\n",
       "    <tr>\n",
       "      <th>4</th>\n",
       "      <td>4</td>\n",
       "      <td>thought might like slim guarante lose lb day h...</td>\n",
       "      <td>1</td>\n",
       "    </tr>\n",
       "  </tbody>\n",
       "</table>\n",
       "</div>"
      ],
      "text/plain": [
       "   Unnamed: 0                                               Body  Label\n",
       "0           0  save life insur spend tolif quot save ensur fa...      1\n",
       "1           1  fight risk cancer httpwwwadclickwspcfmospk sli...      1\n",
       "2           2  fight risk cancer httpwwwadclickwspcfmospk sli...      1\n",
       "3           3  adult club offer free membership instant acces...      1\n",
       "4           4  thought might like slim guarante lose lb day h...      1"
      ]
     },
     "execution_count": 2,
     "metadata": {},
     "output_type": "execute_result"
    }
   ],
   "source": [
    "df = pd.read_csv('dataset_clean.csv')\n",
    "df.head()"
   ]
  },
  {
   "cell_type": "code",
   "execution_count": 3,
   "metadata": {},
   "outputs": [],
   "source": [
    "# take random 75% of the dataset and save in new dataframe\n",
    "df_75 = df.sample(frac=0.4, random_state=1)"
   ]
  },
  {
   "cell_type": "code",
   "execution_count": 4,
   "metadata": {},
   "outputs": [
    {
     "name": "stderr",
     "output_type": "stream",
     "text": [
      "c:\\Users\\Christian\\Documents\\python_env\\data_sciece_env\\lib\\site-packages\\sklearn\\utils\\deprecation.py:87: FutureWarning: Function get_feature_names is deprecated; get_feature_names is deprecated in 1.0 and will be removed in 1.2. Please use get_feature_names_out instead.\n",
      "  warnings.warn(msg, category=FutureWarning)\n"
     ]
    }
   ],
   "source": [
    "# Bag of words\n",
    "count_vectorizer = CountVectorizer(ngram_range=(2,2))\n",
    "bag_of_words = count_vectorizer.fit_transform(df_75['Body'])\n",
    "\n",
    "bag_of_words = bag_of_words.toarray()\n",
    "titles = count_vectorizer.get_feature_names()\n",
    "modelBoG1 = pd.DataFrame(bag_of_words, columns=titles)"
   ]
  },
  {
   "cell_type": "code",
   "execution_count": 5,
   "metadata": {},
   "outputs": [
    {
     "data": {
      "text/html": [
       "<div>\n",
       "<style scoped>\n",
       "    .dataframe tbody tr th:only-of-type {\n",
       "        vertical-align: middle;\n",
       "    }\n",
       "\n",
       "    .dataframe tbody tr th {\n",
       "        vertical-align: top;\n",
       "    }\n",
       "\n",
       "    .dataframe thead th {\n",
       "        text-align: right;\n",
       "    }\n",
       "</style>\n",
       "<table border=\"1\" class=\"dataframe\">\n",
       "  <thead>\n",
       "    <tr style=\"text-align: right;\">\n",
       "      <th></th>\n",
       "      <th>aa aa</th>\n",
       "      <th>aa aaaa</th>\n",
       "      <th>aa aaaaa</th>\n",
       "      <th>aa aaaaaaaaaaaaaa</th>\n",
       "      <th>aa aaaaaacagetaaaoaaao</th>\n",
       "      <th>aa aaaaahov</th>\n",
       "      <th>aa aaaaazaaaaaaaoaaa</th>\n",
       "      <th>aa aaaayou</th>\n",
       "      <th>aa aaacyaaaeaaaecaaa</th>\n",
       "      <th>aa accessori</th>\n",
       "      <th>...</th>\n",
       "      <th>zzzzcchackwatchcom viewmount</th>\n",
       "      <th>zzzzjmasonorg unsubscrib</th>\n",
       "      <th>zzzzjmasonorg would</th>\n",
       "      <th>zzzzspamassassintaintorg adult</th>\n",
       "      <th>zzzzspamassassintaintorg free</th>\n",
       "      <th>zzzzspamassassintaintorg password</th>\n",
       "      <th>zzzzspamassassintaintorg today</th>\n",
       "      <th>zzzzteana megalithomania</th>\n",
       "      <th>zzzzteana van</th>\n",
       "      <th>zzzzteanayahoogroupscom subject</th>\n",
       "    </tr>\n",
       "  </thead>\n",
       "  <tbody>\n",
       "    <tr>\n",
       "      <th>0</th>\n",
       "      <td>0</td>\n",
       "      <td>0</td>\n",
       "      <td>0</td>\n",
       "      <td>0</td>\n",
       "      <td>0</td>\n",
       "      <td>0</td>\n",
       "      <td>0</td>\n",
       "      <td>0</td>\n",
       "      <td>0</td>\n",
       "      <td>0</td>\n",
       "      <td>...</td>\n",
       "      <td>0</td>\n",
       "      <td>0</td>\n",
       "      <td>0</td>\n",
       "      <td>0</td>\n",
       "      <td>0</td>\n",
       "      <td>0</td>\n",
       "      <td>0</td>\n",
       "      <td>0</td>\n",
       "      <td>0</td>\n",
       "      <td>0</td>\n",
       "    </tr>\n",
       "    <tr>\n",
       "      <th>1</th>\n",
       "      <td>0</td>\n",
       "      <td>0</td>\n",
       "      <td>0</td>\n",
       "      <td>0</td>\n",
       "      <td>0</td>\n",
       "      <td>0</td>\n",
       "      <td>0</td>\n",
       "      <td>0</td>\n",
       "      <td>0</td>\n",
       "      <td>0</td>\n",
       "      <td>...</td>\n",
       "      <td>0</td>\n",
       "      <td>0</td>\n",
       "      <td>0</td>\n",
       "      <td>0</td>\n",
       "      <td>0</td>\n",
       "      <td>0</td>\n",
       "      <td>0</td>\n",
       "      <td>0</td>\n",
       "      <td>0</td>\n",
       "      <td>0</td>\n",
       "    </tr>\n",
       "    <tr>\n",
       "      <th>2</th>\n",
       "      <td>0</td>\n",
       "      <td>0</td>\n",
       "      <td>0</td>\n",
       "      <td>0</td>\n",
       "      <td>0</td>\n",
       "      <td>0</td>\n",
       "      <td>0</td>\n",
       "      <td>0</td>\n",
       "      <td>0</td>\n",
       "      <td>0</td>\n",
       "      <td>...</td>\n",
       "      <td>0</td>\n",
       "      <td>0</td>\n",
       "      <td>0</td>\n",
       "      <td>0</td>\n",
       "      <td>0</td>\n",
       "      <td>0</td>\n",
       "      <td>0</td>\n",
       "      <td>0</td>\n",
       "      <td>0</td>\n",
       "      <td>0</td>\n",
       "    </tr>\n",
       "    <tr>\n",
       "      <th>3</th>\n",
       "      <td>0</td>\n",
       "      <td>0</td>\n",
       "      <td>0</td>\n",
       "      <td>0</td>\n",
       "      <td>0</td>\n",
       "      <td>0</td>\n",
       "      <td>0</td>\n",
       "      <td>0</td>\n",
       "      <td>0</td>\n",
       "      <td>0</td>\n",
       "      <td>...</td>\n",
       "      <td>0</td>\n",
       "      <td>0</td>\n",
       "      <td>0</td>\n",
       "      <td>0</td>\n",
       "      <td>0</td>\n",
       "      <td>0</td>\n",
       "      <td>0</td>\n",
       "      <td>0</td>\n",
       "      <td>0</td>\n",
       "      <td>0</td>\n",
       "    </tr>\n",
       "    <tr>\n",
       "      <th>4</th>\n",
       "      <td>0</td>\n",
       "      <td>0</td>\n",
       "      <td>0</td>\n",
       "      <td>0</td>\n",
       "      <td>0</td>\n",
       "      <td>0</td>\n",
       "      <td>0</td>\n",
       "      <td>0</td>\n",
       "      <td>0</td>\n",
       "      <td>0</td>\n",
       "      <td>...</td>\n",
       "      <td>0</td>\n",
       "      <td>0</td>\n",
       "      <td>0</td>\n",
       "      <td>0</td>\n",
       "      <td>0</td>\n",
       "      <td>0</td>\n",
       "      <td>0</td>\n",
       "      <td>0</td>\n",
       "      <td>0</td>\n",
       "      <td>0</td>\n",
       "    </tr>\n",
       "  </tbody>\n",
       "</table>\n",
       "<p>5 rows × 470905 columns</p>\n",
       "</div>"
      ],
      "text/plain": [
       "   aa aa  aa aaaa  aa aaaaa  aa aaaaaaaaaaaaaa  aa aaaaaacagetaaaoaaao  \\\n",
       "0      0        0         0                  0                       0   \n",
       "1      0        0         0                  0                       0   \n",
       "2      0        0         0                  0                       0   \n",
       "3      0        0         0                  0                       0   \n",
       "4      0        0         0                  0                       0   \n",
       "\n",
       "   aa aaaaahov  aa aaaaazaaaaaaaoaaa  aa aaaayou  aa aaacyaaaeaaaecaaa  \\\n",
       "0            0                     0           0                     0   \n",
       "1            0                     0           0                     0   \n",
       "2            0                     0           0                     0   \n",
       "3            0                     0           0                     0   \n",
       "4            0                     0           0                     0   \n",
       "\n",
       "   aa accessori  ...  zzzzcchackwatchcom viewmount  zzzzjmasonorg unsubscrib  \\\n",
       "0             0  ...                             0                         0   \n",
       "1             0  ...                             0                         0   \n",
       "2             0  ...                             0                         0   \n",
       "3             0  ...                             0                         0   \n",
       "4             0  ...                             0                         0   \n",
       "\n",
       "   zzzzjmasonorg would  zzzzspamassassintaintorg adult  \\\n",
       "0                    0                               0   \n",
       "1                    0                               0   \n",
       "2                    0                               0   \n",
       "3                    0                               0   \n",
       "4                    0                               0   \n",
       "\n",
       "   zzzzspamassassintaintorg free  zzzzspamassassintaintorg password  \\\n",
       "0                              0                                  0   \n",
       "1                              0                                  0   \n",
       "2                              0                                  0   \n",
       "3                              0                                  0   \n",
       "4                              0                                  0   \n",
       "\n",
       "   zzzzspamassassintaintorg today  zzzzteana megalithomania  zzzzteana van  \\\n",
       "0                               0                         0              0   \n",
       "1                               0                         0              0   \n",
       "2                               0                         0              0   \n",
       "3                               0                         0              0   \n",
       "4                               0                         0              0   \n",
       "\n",
       "   zzzzteanayahoogroupscom subject  \n",
       "0                                0  \n",
       "1                                0  \n",
       "2                                0  \n",
       "3                                0  \n",
       "4                                0  \n",
       "\n",
       "[5 rows x 470905 columns]"
      ]
     },
     "execution_count": 5,
     "metadata": {},
     "output_type": "execute_result"
    }
   ],
   "source": [
    "modelBoG1.head()"
   ]
  },
  {
   "cell_type": "code",
   "execution_count": 6,
   "metadata": {},
   "outputs": [],
   "source": [
    "# Train model with 70% train and 30% test using Naive Bayes\n",
    "from sklearn.naive_bayes import MultinomialNB\n",
    "from sklearn.model_selection import train_test_split"
   ]
  },
  {
   "cell_type": "code",
   "execution_count": 7,
   "metadata": {},
   "outputs": [],
   "source": [
    "X_train, X_test, y_train, y_test = train_test_split(modelBoG1, df_75['Label'], test_size=0.3, random_state=1)"
   ]
  },
  {
   "cell_type": "code",
   "execution_count": 8,
   "metadata": {},
   "outputs": [
    {
     "data": {
      "text/plain": [
       "MultinomialNB()"
      ]
     },
     "execution_count": 8,
     "metadata": {},
     "output_type": "execute_result"
    }
   ],
   "source": [
    "# train model\n",
    "model = MultinomialNB()\n",
    "model.fit(X_train, y_train)"
   ]
  },
  {
   "cell_type": "code",
   "execution_count": 9,
   "metadata": {},
   "outputs": [],
   "source": [
    "# predict\n",
    "y_pred = model.predict(X_test)"
   ]
  },
  {
   "cell_type": "code",
   "execution_count": 10,
   "metadata": {},
   "outputs": [
    {
     "name": "stdout",
     "output_type": "stream",
     "text": [
      "Accuracy:  0.9075324675324675\n",
      "Confusion matrix:  [[1000  114]\n",
      " [  64  747]]\n",
      "Classification report:                precision    recall  f1-score   support\n",
      "\n",
      "           0       0.94      0.90      0.92      1114\n",
      "           1       0.87      0.92      0.89       811\n",
      "\n",
      "    accuracy                           0.91      1925\n",
      "   macro avg       0.90      0.91      0.91      1925\n",
      "weighted avg       0.91      0.91      0.91      1925\n",
      "\n"
     ]
    }
   ],
   "source": [
    "# evaluate model\n",
    "from sklearn.metrics import accuracy_score, confusion_matrix, classification_report\n",
    "\n",
    "print('Accuracy: ', accuracy_score(y_test, y_pred))\n",
    "print('Confusion matrix: ', confusion_matrix(y_test, y_pred))\n",
    "print('Classification report: ', classification_report(y_test, y_pred))\n"
   ]
  },
  {
   "attachments": {},
   "cell_type": "markdown",
   "metadata": {},
   "source": [
    "La matriz resultante con 2 n-gramas es tan grande que no cabe en memoria. Es por esto de que para poder proseguir con el entrenamiento del modelo, fue necesario reducir el dataset al 50% del tamaño del original."
   ]
  },
  {
   "attachments": {},
   "cell_type": "markdown",
   "metadata": {},
   "source": [
    "Análisis:"
   ]
  }
 ],
 "metadata": {
  "kernelspec": {
   "display_name": "data_sciece_env",
   "language": "python",
   "name": "python3"
  },
  "language_info": {
   "codemirror_mode": {
    "name": "ipython",
    "version": 3
   },
   "file_extension": ".py",
   "mimetype": "text/x-python",
   "name": "python",
   "nbconvert_exporter": "python",
   "pygments_lexer": "ipython3",
   "version": "3.9.6"
  },
  "orig_nbformat": 4,
  "vscode": {
   "interpreter": {
    "hash": "4055c6ccdf92cd4e8d2cc5cddf765dd566780b9ad219ee7673e946a4312e03b3"
   }
  }
 },
 "nbformat": 4,
 "nbformat_minor": 2
}
